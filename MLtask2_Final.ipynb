{
  "nbformat": 4,
  "nbformat_minor": 0,
  "metadata": {
    "colab": {
      "provenance": []
    },
    "kernelspec": {
      "name": "python3",
      "display_name": "Python 3"
    },
    "language_info": {
      "name": "python"
    }
  },
  "cells": [
    {
      "cell_type": "code",
      "execution_count": null,
      "metadata": {
        "id": "GFDF7SLWjJev"
      },
      "outputs": [],
      "source": [
        "import numpy as np\n",
        "\n",
        "import pandas as pd\n",
        "\n",
        "import matplotlib.pyplot as plt\n",
        "\n",
        "import seaborn as sns\n",
        "\n",
        "%matplotlib inline\n"
      ]
    },
    {
      "cell_type": "code",
      "source": [
        "from google.colab import files #匯入套件\n",
        "import pandas as pd\n",
        "#upload = files.upload()\n",
        "#upload2 = files.upload()\n",
        "raw_data = pd.read_csv('train_dec04_task2.csv', index_col = 0)\n",
        "test_data = pd.read_csv('test_dec04_task2_only_features.csv', index_col = 0)"
      ],
      "metadata": {
        "id": "lQTO4oMOjU-t"
      },
      "execution_count": null,
      "outputs": []
    },
    {
      "cell_type": "code",
      "source": [
        "from sklearn.preprocessing import StandardScaler\n",
        "scaler = StandardScaler()\n",
        "scaler.fit(raw_data.drop('class', axis=1))\n",
        "scaled_features = scaler.transform(raw_data.drop('class', axis=1))\n",
        "scaled_data = pd.DataFrame(scaled_features, columns = raw_data.drop('class', axis=1).columns)\n",
        "\n",
        "test_scaler = StandardScaler()\n",
        "test_scaler.fit(test_data.drop('class', axis=1))\n",
        "scaled_features2 = test_scaler.transform(test_data.drop('class', axis=1))\n",
        "t_data = pd.DataFrame(scaled_features2, columns = test_data.drop('class', axis=1).columns)\n",
        "x_train = scaled_data\n",
        "y_train = raw_data['class']\n",
        "x_test = t_data\n"
      ],
      "metadata": {
        "id": "5ZF2t_UJjYWX"
      },
      "execution_count": null,
      "outputs": []
    },
    {
      "cell_type": "code",
      "source": [
        "\n"
      ],
      "metadata": {
        "id": "g258mOdEjhFz"
      },
      "execution_count": null,
      "outputs": []
    },
    {
      "cell_type": "code",
      "source": [],
      "metadata": {
        "id": "idqyq4WZlDy1"
      },
      "execution_count": null,
      "outputs": []
    },
    {
      "cell_type": "code",
      "source": [
        "from sklearn.model_selection import train_test_split\n"
      ],
      "metadata": {
        "id": "T7_58K2MqEAa"
      },
      "execution_count": null,
      "outputs": []
    },
    {
      "cell_type": "code",
      "source": [
        "x_training_data, x_test_data, y_training_data, y_test_data = train_test_split(x_train, y_train, test_size = 0.2)"
      ],
      "metadata": {
        "id": "okxJrpSPqE5T"
      },
      "execution_count": null,
      "outputs": []
    },
    {
      "cell_type": "code",
      "source": [
        "from sklearn import svm\n",
        "from sklearn.feature_selection import RFE\n",
        "from sklearn.feature_selection import SequentialFeatureSelector\n",
        "from sklearn.neighbors import KNeighborsClassifier\n",
        "from sklearn.neighbors import RadiusNeighborsClassifier\n",
        "knn = KNeighborsClassifier(n_neighbors=3)\n",
        "#neigh = RadiusNeighborsClassifier(radius=1.0)\n",
        "#SVMmodel = \n",
        "model = SequentialFeatureSelector(knn, n_features_to_select=5)\n",
        "model.fit(x_train,y_train)\n",
        "selection = model.get_feature_names_out()\n",
        "print(selection)\n",
        "#feat_index = pd.Series(data = svm_rfe_model_fit.ranking_, index = X_train.columns)\n",
        "#signi_feat_rfe = feat_index[feat_index==1].index\n",
        "#print('Significant features from RFE',signi_feat_rfe)"
      ],
      "metadata": {
        "colab": {
          "base_uri": "https://localhost:8080/"
        },
        "id": "moQIk3K3OTZ2",
        "outputId": "18fb44ca-11a7-437b-e964-4e169318f4a0"
      },
      "execution_count": null,
      "outputs": [
        {
          "output_type": "stream",
          "name": "stdout",
          "text": [
            "['feature1' 'feature2' 'feature3' 'feature4' 'feature5']\n"
          ]
        }
      ]
    },
    {
      "cell_type": "code",
      "source": [
        "from sklearn import svm\n",
        "from sklearn.neighbors import KNeighborsClassifier\n",
        "from sklearn.neural_network import MLPClassifier\n",
        "from sklearn.naive_bayes import GaussianNB\n",
        "from sklearn.linear_model import LogisticRegression\n",
        "\n",
        "SVMmodel=svm.SVC(kernel='rbf',gamma=0.1, C=1)\n",
        "SVMmodel.fit(x_train, y_train)\n",
        "predict_SVM=SVMmodel.predict(x_test)\n",
        "\n",
        "\n",
        "kNNmodel = KNeighborsClassifier(n_neighbors = 11)\n",
        "kNNmodel.fit(x_train, y_train)\n",
        "predict_kNN = kNNmodel.predict(x_test)\n",
        "\n",
        "\n",
        "MLPCmodel = MLPClassifier(solver='lbfgs', alpha=1e-7,hidden_layer_sizes=(50, 50), random_state=1)\n",
        "MLPCmodel.fit(x_train, y_train);\n",
        "predict_MLPC = MLPCmodel.predict(x_test)\n",
        "\n",
        "\n",
        "NBmodel = GaussianNB()\n",
        "NBmodel.fit(x_train, y_train);\n",
        "predict_NB = NBmodel.predict(x_test)\n",
        "\n",
        "\n",
        "\n",
        "LRmodel = LogisticRegression(random_state=0)\n",
        "LRmodel.fit(x_train, y_train)\n",
        "predict_LR = LRmodel.predict(x_test)\n"
      ],
      "metadata": {
        "colab": {
          "base_uri": "https://localhost:8080/"
        },
        "id": "sxj6NnMI9Vey",
        "outputId": "9defc37f-e21f-4f98-a82f-84c5d7357ba0"
      },
      "execution_count": null,
      "outputs": [
        {
          "output_type": "stream",
          "name": "stderr",
          "text": [
            "/usr/local/lib/python3.8/dist-packages/sklearn/neural_network/_multilayer_perceptron.py:549: ConvergenceWarning: lbfgs failed to converge (status=1):\n",
            "STOP: TOTAL NO. of ITERATIONS REACHED LIMIT.\n",
            "\n",
            "Increase the number of iterations (max_iter) or scale the data as shown in:\n",
            "    https://scikit-learn.org/stable/modules/preprocessing.html\n",
            "  self.n_iter_ = _check_optimize_result(\"lbfgs\", opt_res, self.max_iter)\n"
          ]
        }
      ]
    },
    {
      "cell_type": "markdown",
      "source": [
        "OutPut Data"
      ],
      "metadata": {
        "id": "JScacyTN9mZx"
      }
    },
    {
      "cell_type": "code",
      "source": [
        "result_NB=pd.DataFrame(predict_NB)\n",
        "result_SVM=pd.DataFrame(predict_SVM)\n",
        "result_kNN=pd.DataFrame(predict_kNN)\n",
        "result_LR=pd.DataFrame(predict_LR)\n",
        "result_MLPC=pd.DataFrame(predict_MLPC)\n",
        "\n",
        "NB_List=result_NB[0].tolist()\n",
        "SVM_List=result_SVM[0].tolist()\n",
        "kNN_List=result_kNN[0].tolist()\n",
        "LR_List=result_LR[0].tolist()\n",
        "MLPC_List=result_MLPC[0].tolist()\n",
        "\n",
        "\n",
        "result_MLPC.insert(1, column=\"category\", value=SVM_List)\n",
        "result_MLPC.insert(2, column=\"category3\", value=kNN_List)\n",
        "result_MLPC.insert(3, column=\"category4\", value=LR_List)\n",
        "result_MLPC.insert(4, column=\"category5\", value=NB_List)\n",
        "\n",
        "\n",
        "print (result_MLPC.T)\n",
        "\n",
        "\n",
        "\n",
        "n=0\n",
        "result=pd.DataFrame({'category': ['start'] })\n",
        "\n",
        "while n<=1199:\n",
        "  a = result_SVM.T[n].value_counts()\n",
        "  b = a.idxmax()\n",
        "  #print(b)\n",
        "  result_add=pd.DataFrame({'category': [b] })\n",
        "  result=result.append(result_add)\n",
        "  n=n+1\n",
        "\n",
        "print(result)\n",
        "#c=pd.DataFrame(b)\n",
        "#print(c)\n",
        "#pd.DataFrame(c).to_csv(\"output_final_10.csv\")"
      ],
      "metadata": {
        "id": "iCm-WE6v9la_",
        "colab": {
          "base_uri": "https://localhost:8080/"
        },
        "outputId": "e099e2e6-ba60-47e0-b689-83e3ab7412bb"
      },
      "execution_count": null,
      "outputs": [
        {
          "output_type": "stream",
          "name": "stdout",
          "text": [
            "          0    1    2    3    4    5    6    7    8    9     ... 1190 1191  \\\n",
            "0            A    A    A    A    A    A    A    A    A    A  ...    B    C   \n",
            "category     A    A    A    A    A    A    A    A    A    A  ...    B    C   \n",
            "category3    A    A    A    A    A    A    A    A    A    A  ...    B    C   \n",
            "category4    A    A    A    A    A    A    A    A    A    A  ...    B    C   \n",
            "category5    C    A    A    A    A    A    A    A    A    A  ...    B    C   \n",
            "\n",
            "          1192 1193 1194 1195 1196 1197 1198 1199  \n",
            "0            C    B    C    B    B    B    C    C  \n",
            "category     C    B    B    B    B    B    C    B  \n",
            "category3    B    B    B    B    B    B    C    C  \n",
            "category4    C    B    B    B    B    B    C    C  \n",
            "category5    C    B    B    B    B    B    C    C  \n",
            "\n",
            "[5 rows x 1200 columns]\n",
            "   category\n",
            "0     start\n",
            "0         A\n",
            "0         A\n",
            "0         A\n",
            "0         A\n",
            "..      ...\n",
            "0         B\n",
            "0         B\n",
            "0         B\n",
            "0         C\n",
            "0         B\n",
            "\n",
            "[1201 rows x 1 columns]\n"
          ]
        }
      ]
    },
    {
      "cell_type": "code",
      "source": [
        "c=pd.DataFrame(result)\n",
        "print(c)\n",
        "pd.DataFrame(c).to_csv(\"output_final_11.csv\")"
      ],
      "metadata": {
        "colab": {
          "base_uri": "https://localhost:8080/"
        },
        "id": "6mLKV6LfawfD",
        "outputId": "55817ab6-3be2-4a7d-8240-da962d10783b"
      },
      "execution_count": null,
      "outputs": [
        {
          "output_type": "stream",
          "name": "stdout",
          "text": [
            "   category\n",
            "0     start\n",
            "0         A\n",
            "0         A\n",
            "0         A\n",
            "0         A\n",
            "..      ...\n",
            "0         B\n",
            "0         B\n",
            "0         B\n",
            "0         C\n",
            "0         B\n",
            "\n",
            "[1201 rows x 1 columns]\n"
          ]
        }
      ]
    },
    {
      "cell_type": "code",
      "source": [
        "a = result_MLPC.T.loc[:,].value_counts()\n",
        "print (a)\n",
        "b = a.idxmax()\n",
        "print(b)\n",
        "c=pd.DataFrame(b)\n",
        "print(c)\n",
        "pd.DataFrame(c).to_csv(\"output_final_3.csv\")"
      ],
      "metadata": {
        "id": "bwnMVB5MZzab"
      },
      "execution_count": null,
      "outputs": []
    },
    {
      "cell_type": "markdown",
      "source": [
        "Test"
      ],
      "metadata": {
        "id": "7u7jCnlLFTTY"
      }
    },
    {
      "cell_type": "code",
      "source": [
        "from sklearn.linear_model import LogisticRegression\n",
        "\n",
        "logisticModel = LogisticRegression(random_state=0)\n",
        "# 使用訓練資料訓練模型\n",
        "logisticModel.fit(x_training_data, y_training_data)\n",
        "# 使用訓練資料預測分類\n",
        "predicted_test = logisticModel.predict(x_test_data)\n",
        "print('訓練集: ',logisticModel.score(x_training_data, y_training_data))\n",
        "print('測試集: ',logisticModel.score(x_test_data,y_test_data))"
      ],
      "metadata": {
        "colab": {
          "base_uri": "https://localhost:8080/"
        },
        "id": "hri0vXMbSvuK",
        "outputId": "842dd1c0-9a89-4e35-9350-50c07ddb4d3d"
      },
      "execution_count": null,
      "outputs": [
        {
          "output_type": "stream",
          "name": "stdout",
          "text": [
            "訓練集:  0.7991666666666667\n",
            "測試集:  0.8033333333333333\n"
          ]
        }
      ]
    },
    {
      "cell_type": "code",
      "source": [
        "from sklearn import tree\n",
        "model = tree.DecisionTreeClassifier()\n",
        "model.fit(x_training_data, y_training_data);\n",
        "predicted_test = model.predict(x_test_data)\n",
        "print('訓練集: ',model.score(x_training_data, y_training_data))\n",
        "print('測試集: ',model.score(x_test_data,y_test_data))\n",
        "# 預測\n",
        "predictions = model.predict(x_test)"
      ],
      "metadata": {
        "colab": {
          "base_uri": "https://localhost:8080/"
        },
        "id": "jbtSFfGeTMGG",
        "outputId": "f931db78-bc7b-4aef-c1c6-664f05072d8b"
      },
      "execution_count": null,
      "outputs": [
        {
          "output_type": "stream",
          "name": "stdout",
          "text": [
            "訓練集:  1.0\n",
            "測試集:  0.7222222222222222\n"
          ]
        }
      ]
    },
    {
      "cell_type": "code",
      "source": [
        "from sklearn.neural_network import MLPClassifier\n",
        "x_training_data, x_test_data, y_training_data, y_test_data = train_test_split(x_train, y_train, test_size = 0.1)\n",
        "model = MLPClassifier(solver='adam', alpha=1e-7,hidden_layer_sizes=(50, 50), random_state=1)\n",
        "\n",
        "model.fit(x_training_data, y_training_data);\n",
        "predicted_test = model.predict(x_test_data)\n",
        "print('訓練集: ',model.score(x_training_data, y_training_data))\n",
        "print('測試集: ',model.score(x_test_data,y_test_data))"
      ],
      "metadata": {
        "colab": {
          "base_uri": "https://localhost:8080/"
        },
        "id": "DyNMYjAyVj6s",
        "outputId": "89359a0d-1768-47a9-cf17-a84549fb9142"
      },
      "execution_count": null,
      "outputs": [
        {
          "output_type": "stream",
          "name": "stdout",
          "text": [
            "訓練集:  0.8666666666666667\n",
            "測試集:  0.7977777777777778\n"
          ]
        },
        {
          "output_type": "stream",
          "name": "stderr",
          "text": [
            "/usr/local/lib/python3.8/dist-packages/sklearn/neural_network/_multilayer_perceptron.py:692: ConvergenceWarning: Stochastic Optimizer: Maximum iterations (200) reached and the optimization hasn't converged yet.\n",
            "  warnings.warn(\n"
          ]
        }
      ]
    },
    {
      "cell_type": "code",
      "source": [
        "\n",
        "from sklearn.neural_network import MLPClassifier\n",
        "x_training_data, x_test_data, y_training_data, y_test_data = train_test_split(x_train, y_train, test_size = 0.1)\n",
        "model = MLPClassifier(solver='adam', alpha=1e-5,hidden_layer_sizes=(25, 25), random_state=1)\n",
        "\n",
        "model.fit(x_training_data, y_training_data);\n",
        "predicted_test = model.predict(x_test_data)\n",
        "print('訓練集: ',model.score(x_training_data, y_training_data))\n",
        "print('測試集: ',model.score(x_test_data,y_test_data))\n",
        "predictions = model.predict(x_test)"
      ],
      "metadata": {
        "colab": {
          "base_uri": "https://localhost:8080/"
        },
        "id": "RKBQgjR1OYSN",
        "outputId": "aaa0f18c-16ff-42cd-a7e5-28541c768d3f"
      },
      "execution_count": null,
      "outputs": [
        {
          "output_type": "stream",
          "name": "stdout",
          "text": [
            "訓練集:  0.8412345679012345\n",
            "測試集:  0.8222222222222222\n"
          ]
        },
        {
          "output_type": "stream",
          "name": "stderr",
          "text": [
            "/usr/local/lib/python3.8/dist-packages/sklearn/neural_network/_multilayer_perceptron.py:692: ConvergenceWarning: Stochastic Optimizer: Maximum iterations (200) reached and the optimization hasn't converged yet.\n",
            "  warnings.warn(\n"
          ]
        }
      ]
    },
    {
      "cell_type": "markdown",
      "source": [
        "SVM_test"
      ],
      "metadata": {
        "id": "XTCbEZY7Scu1"
      }
    },
    {
      "cell_type": "code",
      "source": [
        "from sklearn import svm\n",
        "\n",
        "# 建立 kernel='rbf' 模型\n",
        "rbfModel=svm.SVC(C=2, kernel='rbf', gamma='auto')\n",
        "# 使用訓練資料訓練模型\n",
        "rbfModel.fit(x_training_data, y_training_data)\n",
        "# 使用訓練資料預測分類\n",
        "prediction_SVM=rbfModel.predict(x_test)\n",
        "# 計算準確率\n",
        "accuracy = rbfModel.score(x_test_data, y_test_data)\n",
        "\n",
        "print(accuracy)"
      ],
      "metadata": {
        "id": "hFg2bL53jv4S",
        "colab": {
          "base_uri": "https://localhost:8080/"
        },
        "outputId": "92755b9a-2456-46ca-e755-027061d2b561"
      },
      "execution_count": null,
      "outputs": [
        {
          "output_type": "stream",
          "name": "stdout",
          "text": [
            "0.8062222222222222\n"
          ]
        }
      ]
    },
    {
      "cell_type": "code",
      "source": [
        "from sklearn.neural_network import MLPClassifier\n",
        "x_training_data, x_test_data, y_training_data, y_test_data = train_test_split(x_train, y_train, test_size = 0.25)\n",
        "model = MLPClassifier(solver='adam', alpha=1e-4,hidden_layer_sizes=(25, 25), random_state=2)\n",
        "\n",
        "model.fit(x_training_data, y_training_data);\n",
        "predicted_test = model.predict(x_test_data)\n",
        "print('訓練集: ',model.score(x_training_data, y_training_data))\n",
        "print('測試集: ',model.score(x_test_data,y_test_data))\n",
        "prediction_MLPC = model.predict(x_test)"
      ],
      "metadata": {
        "id": "eh0zzrSBFOUO",
        "colab": {
          "base_uri": "https://localhost:8080/"
        },
        "outputId": "4d0231ec-7cd9-467d-870c-a526acd2f31d"
      },
      "execution_count": null,
      "outputs": [
        {
          "output_type": "stream",
          "name": "stdout",
          "text": [
            "訓練集:  0.8468148148148148\n",
            "測試集:  0.8124444444444444\n"
          ]
        },
        {
          "output_type": "stream",
          "name": "stderr",
          "text": [
            "/usr/local/lib/python3.8/dist-packages/sklearn/neural_network/_multilayer_perceptron.py:692: ConvergenceWarning: Stochastic Optimizer: Maximum iterations (200) reached and the optimization hasn't converged yet.\n",
            "  warnings.warn(\n"
          ]
        }
      ]
    },
    {
      "cell_type": "markdown",
      "source": [
        "Run"
      ],
      "metadata": {
        "id": "Fq5yipBIFRFl"
      }
    },
    {
      "cell_type": "code",
      "source": [
        "from sklearn import svm\n",
        "\n",
        "# 建立 kernel='rbf' 模型\n",
        "rbfModel=svm.SVC(C=1, kernel='rbf', gamma='auto')\n",
        "# 使用訓練資料訓練模型\n",
        "rbfModel.fit(x_train, y_train)\n",
        "# 使用訓練資料預測分類\n",
        "predicted=rbfModel.predict(x_test)\n",
        "# 計算準確率\n",
        "#accuracy = rbfModel.score(x_test_data, y_test_data)\n",
        "\n",
        "#print(accuracy)"
      ],
      "metadata": {
        "id": "nHFE8b9iDZzn"
      },
      "execution_count": null,
      "outputs": []
    },
    {
      "cell_type": "markdown",
      "source": [
        "kNN test"
      ],
      "metadata": {
        "id": "4Lu8WLYUHi_L"
      }
    },
    {
      "cell_type": "code",
      "source": [
        "from sklearn.neighbors import KNeighborsClassifier\n",
        "\n",
        "# 建立 KNN 模型\n",
        "knnModel = KNeighborsClassifier(n_neighbors=20,algorithm='auto')\n",
        "# 使用訓練資料訓練模型\n",
        "knnModel.fit(x_training_data, y_training_data)\n",
        "# 使用訓練資料預測分類\n",
        "predicted = knnModel.predict(x_test_data)\n",
        "print('訓練集: ',knnModel.score(x_training_data, y_training_data))\n",
        "print('測試集: ',knnModel.score(x_test_data, y_test_data))"
      ],
      "metadata": {
        "colab": {
          "base_uri": "https://localhost:8080/"
        },
        "id": "7Fb1wbHAHkYH",
        "outputId": "c3960f07-3555-46e1-db89-85ed4b547ee6"
      },
      "execution_count": null,
      "outputs": [
        {
          "output_type": "stream",
          "name": "stdout",
          "text": [
            "訓練集:  0.8201481481481482\n",
            "測試集:  0.7786666666666666\n"
          ]
        }
      ]
    },
    {
      "cell_type": "markdown",
      "source": [
        "NB test"
      ],
      "metadata": {
        "id": "RzfcnCm7JVNx"
      }
    },
    {
      "cell_type": "code",
      "source": [
        "from sklearn.naive_bayes import GaussianNB\n",
        "from sklearn.naive_bayes import MultinomialNB\n",
        "model = GaussianNB()\n",
        "model.fit(x_training_data, y_training_data)\n",
        "predicted = model.predict(x_test_data)\n",
        "print('訓練集: ',model.score(x_training_data, y_training_data))\n",
        "print('測試集: ',model.score(x_test_data, y_test_data))"
      ],
      "metadata": {
        "colab": {
          "base_uri": "https://localhost:8080/"
        },
        "id": "6Q0veatiJWZ1",
        "outputId": "3cd0a845-18e8-407c-cb17-3f2021dd091e"
      },
      "execution_count": null,
      "outputs": [
        {
          "output_type": "stream",
          "name": "stdout",
          "text": [
            "訓練集:  0.8139259259259259\n",
            "測試集:  0.7795555555555556\n"
          ]
        }
      ]
    },
    {
      "cell_type": "code",
      "source": [
        "from sklearn.naive_bayes import GaussianNB\n",
        "from sklearn.naive_bayes import MultinomialNB\n",
        "model = GaussianNB()\n",
        "model.fit(x_training_data, y_training_data)\n",
        "predicted = model.predict(x_test_data)\n",
        "print('訓練集: ',model.score(x_training_data, y_training_data))\n",
        "print('測試集: ',model.score(x_test_data, y_test_data))"
      ],
      "metadata": {
        "id": "jC_C4pizKtQH",
        "colab": {
          "base_uri": "https://localhost:8080/"
        },
        "outputId": "dc1ae7d9-2161-40db-f6ab-cbdbf654d12c"
      },
      "execution_count": null,
      "outputs": [
        {
          "output_type": "stream",
          "name": "stdout",
          "text": [
            "訓練集:  0.8139259259259259\n",
            "測試集:  0.7795555555555556\n"
          ]
        }
      ]
    },
    {
      "cell_type": "code",
      "source": [
        "\n",
        "model = svm.SVC(kernel='rbf',C=5,gamma='auto')\n",
        "\n",
        "model.fit(x_train, y_train)\n",
        "\n",
        "predictions = model.predict(x_test)"
      ],
      "metadata": {
        "id": "cSXnLCtDjwxW"
      },
      "execution_count": null,
      "outputs": []
    },
    {
      "cell_type": "code",
      "source": [
        "prediction=pd.DataFrame(prediction_MLPC)\n",
        "SVM=pd.DataFrame(prediction_SVM)\n",
        "SVMList=SVM[0].tolist()\n",
        "prediction.insert(1, column=\"category\", value=SVMList)\n",
        "print (prediction.T)"
      ],
      "metadata": {
        "colab": {
          "base_uri": "https://localhost:8080/"
        },
        "id": "LteP07DiQpr5",
        "outputId": "0c64e49c-ffa2-4885-903d-7596dbe4d47a"
      },
      "execution_count": null,
      "outputs": [
        {
          "output_type": "stream",
          "name": "stdout",
          "text": [
            "         0    1    2    3    4    5    6    7    8    9     ... 1190 1191  \\\n",
            "0           A    A    A    A    A    A    A    A    A    A  ...    B    C   \n",
            "category    A    A    A    A    A    A    A    A    A    A  ...    B    C   \n",
            "\n",
            "         1192 1193 1194 1195 1196 1197 1198 1199  \n",
            "0           B    B    C    B    B    B    C    B  \n",
            "category    C    B    B    B    B    B    C    B  \n",
            "\n",
            "[2 rows x 1200 columns]\n"
          ]
        }
      ]
    },
    {
      "cell_type": "code",
      "source": [
        "from sklearn.metrics import classification_report\n",
        "\n",
        "from sklearn.metrics import confusion_matrix\n",
        "pd.DataFrame(predictions).to_csv(\"task2_MLPC_output_ver7.csv\")\n",
        "print(predictions)"
      ],
      "metadata": {
        "colab": {
          "base_uri": "https://localhost:8080/"
        },
        "id": "QRs4FUZZlPfo",
        "outputId": "65bb33d4-7a60-41dd-fd11-980d26fda926"
      },
      "execution_count": null,
      "outputs": [
        {
          "output_type": "stream",
          "name": "stdout",
          "text": [
            "['A' 'A' 'A' ... 'B' 'C' 'B']\n"
          ]
        }
      ]
    }
  ]
}