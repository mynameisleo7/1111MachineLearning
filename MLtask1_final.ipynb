{
  "nbformat": 4,
  "nbformat_minor": 0,
  "metadata": {
    "colab": {
      "provenance": []
    },
    "kernelspec": {
      "name": "python3",
      "display_name": "Python 3"
    },
    "language_info": {
      "name": "python"
    }
  },
  "cells": [
    {
      "cell_type": "code",
      "execution_count": null,
      "metadata": {
        "id": "GFDF7SLWjJev"
      },
      "outputs": [],
      "source": [
        "import numpy as np\n",
        "import pandas as pd\n",
        "import matplotlib.pyplot as plt\n",
        "import seaborn as sns\n",
        "\n",
        "\n",
        "import seaborn as sns; sns.set()\n",
        "%matplotlib inline\n"
      ]
    },
    {
      "cell_type": "code",
      "source": [
        "from google.colab import files #匯入套件\n",
        "import pandas as pd\n",
        "#upload = files.upload()\n",
        "#upload2 = files.upload()\n",
        "raw_data = pd.read_csv('train_nov28_task1.csv', index_col = 0)\n",
        "test_data = pd.read_csv('test_nov28_task1_only_features.csv', index_col = 0)"
      ],
      "metadata": {
        "id": "lQTO4oMOjU-t"
      },
      "execution_count": null,
      "outputs": []
    },
    {
      "cell_type": "code",
      "source": [
        "from sklearn.preprocessing import StandardScaler\n",
        "scaler = StandardScaler()\n",
        "scaler.fit(raw_data.drop('class', axis=1))\n",
        "scaled_features = scaler.transform(raw_data.drop('class', axis=1))\n",
        "scaled_data = pd.DataFrame(scaled_features, columns = raw_data.drop('class', axis=1).columns)\n",
        "\n",
        "test_scaler = StandardScaler()\n",
        "test_scaler.fit(test_data.drop('class', axis=1))\n",
        "scaled_features2 = test_scaler.transform(test_data.drop('class', axis=1))\n",
        "t_data = pd.DataFrame(scaled_features2, columns = test_data.drop('class', axis=1).columns)\n",
        "\n",
        "x_train = scaled_data\n",
        "y_train = raw_data['class']\n",
        "x_test = t_data"
      ],
      "metadata": {
        "id": "5ZF2t_UJjYWX"
      },
      "execution_count": null,
      "outputs": []
    },
    {
      "cell_type": "markdown",
      "source": [
        "test Data Split"
      ],
      "metadata": {
        "id": "50DFxWRb8eow"
      }
    },
    {
      "cell_type": "code",
      "source": [
        "from sklearn.model_selection import train_test_split\n"
      ],
      "metadata": {
        "id": "T7_58K2MqEAa"
      },
      "execution_count": null,
      "outputs": []
    },
    {
      "cell_type": "code",
      "source": [
        "x_training_data, x_test_data, y_training_data, y_test_data = train_test_split(x_train, y_train, test_size = 0.4)"
      ],
      "metadata": {
        "id": "okxJrpSPqE5T"
      },
      "execution_count": null,
      "outputs": []
    },
    {
      "cell_type": "markdown",
      "source": [
        "### **TEST MODEL**"
      ],
      "metadata": {
        "id": "NFwSdhUS2O26"
      }
    },
    {
      "cell_type": "markdown",
      "source": [
        "NB"
      ],
      "metadata": {
        "id": "gP_Ag73f181U"
      }
    },
    {
      "cell_type": "code",
      "source": [
        "from sklearn.naive_bayes import GaussianNB\n",
        "NBmodel = GaussianNB()\n",
        "NBmodel.fit(x_train, y_train);\n",
        "\n",
        "predict_NB = NBmodel.predict(x_test)"
      ],
      "metadata": {
        "id": "hDA6QFqJITz9"
      },
      "execution_count": null,
      "outputs": []
    },
    {
      "cell_type": "markdown",
      "source": [
        "SVM"
      ],
      "metadata": {
        "id": "2dDK_pSq1-fk"
      }
    },
    {
      "cell_type": "code",
      "source": [
        "from sklearn import svm\n",
        "\n",
        "# 建立 kernel='rbf' 模型\n",
        "SVMmodel=svm.SVC(kernel='rbf',gamma=0.9999, C=7)\n",
        "# 使用訓練資料訓練模型\n",
        "SVMmodel.fit(x_train, y_train)\n",
        "# 使用訓練資料預測分類\n",
        "predict_SVM=SVMmodel.predict(x_test)\n",
        "# 計算準確率\n",
        "#accuracy = rbfModel.score(x_test_data, y_test_data)\n",
        "\n",
        "#print(accuracy)"
      ],
      "metadata": {
        "id": "V9UcK1_FAo_Q"
      },
      "execution_count": null,
      "outputs": []
    },
    {
      "cell_type": "markdown",
      "source": [
        "Decision Tree"
      ],
      "metadata": {
        "id": "572OufkX7RmQ"
      }
    },
    {
      "cell_type": "code",
      "source": [
        "from sklearn import tree\n",
        "DTmodel = tree.DecisionTreeClassifier()\n",
        "DTmodel.fit(x_train, y_train);\n",
        "\n",
        "# 預測\n",
        "predict_DT = DTmodel.predict(x_test)\n"
      ],
      "metadata": {
        "id": "yVJBU6uP7TOO"
      },
      "execution_count": null,
      "outputs": []
    },
    {
      "cell_type": "markdown",
      "source": [
        "kNN"
      ],
      "metadata": {
        "id": "8dWd1RnL7k86"
      }
    },
    {
      "cell_type": "code",
      "source": [
        "from sklearn.neighbors import KNeighborsClassifier\n",
        "\n",
        "kNNmodel = KNeighborsClassifier(n_neighbors = 11)\n",
        "\n",
        "kNNmodel.fit(x_train, y_train)\n",
        "\n",
        "predict_kNN = kNNmodel.predict(x_test)"
      ],
      "metadata": {
        "id": "hFg2bL53jv4S"
      },
      "execution_count": null,
      "outputs": []
    },
    {
      "cell_type": "markdown",
      "source": [
        "Logistic Regresion\n"
      ],
      "metadata": {
        "id": "PV9FsmxH8PtO"
      }
    },
    {
      "cell_type": "code",
      "source": [
        "from sklearn.linear_model import LogisticRegression\n",
        "\n",
        "# 建立Logistic模型\n",
        "LRmodel = LogisticRegression(random_state=0)\n",
        "# 使用訓練資料訓練模型\n",
        "LRmodel.fit(x_train, y_train)\n",
        "# 使用訓練資料預測分類\n",
        "predict_LR = LRmodel.predict(x_test)"
      ],
      "metadata": {
        "id": "pqsdzxDK8SpO"
      },
      "execution_count": null,
      "outputs": []
    },
    {
      "cell_type": "markdown",
      "source": [
        "MLPC(Neural network)"
      ],
      "metadata": {
        "id": "wIDKXlZT2FE_"
      }
    },
    {
      "cell_type": "code",
      "source": [
        "from sklearn.neural_network import MLPClassifier\n",
        "\n",
        "MLPCmodel = MLPClassifier(solver='lbfgs', alpha=1e-7,hidden_layer_sizes=(50, 50), random_state=1)\n",
        "\n",
        "MLPCmodel.fit(x_train, y_train);\n",
        "#predicted_test = model.predict(x_test)\n",
        "\n",
        "predict_MLPC = MLPCmodel.predict(x_test)"
      ],
      "metadata": {
        "colab": {
          "base_uri": "https://localhost:8080/"
        },
        "id": "auxavaewISvb",
        "outputId": "9cf59a2e-ce8c-4a75-ed3f-d7a9cf6c708e"
      },
      "execution_count": null,
      "outputs": [
        {
          "output_type": "stream",
          "name": "stderr",
          "text": [
            "/usr/local/lib/python3.8/dist-packages/sklearn/neural_network/_multilayer_perceptron.py:549: ConvergenceWarning: lbfgs failed to converge (status=1):\n",
            "STOP: TOTAL NO. of ITERATIONS REACHED LIMIT.\n",
            "\n",
            "Increase the number of iterations (max_iter) or scale the data as shown in:\n",
            "    https://scikit-learn.org/stable/modules/preprocessing.html\n",
            "  self.n_iter_ = _check_optimize_result(\"lbfgs\", opt_res, self.max_iter)\n"
          ]
        }
      ]
    },
    {
      "cell_type": "markdown",
      "source": [
        "Output Data"
      ],
      "metadata": {
        "id": "EkhiagMP8S85"
      }
    },
    {
      "cell_type": "code",
      "source": [
        "result_NB=pd.DataFrame(predict_NB)\n",
        "result_SVM=pd.DataFrame(predict_SVM)\n",
        "result_DT=pd.DataFrame(predict_DT)\n",
        "result_kNN=pd.DataFrame(predict_kNN)\n",
        "result_LR=pd.DataFrame(predict_LR)\n",
        "result_MLPC=pd.DataFrame(predict_MLPC)\n",
        "\n",
        "NB_List=result_NB[0].tolist()\n",
        "SVM_List=result_SVM[0].tolist()\n",
        "DT_List=result_DT[0].tolist()\n",
        "kNN_List=result_kNN[0].tolist()\n",
        "LR_List=result_LR[0].tolist()\n",
        "MLPC_List=result_MLPC[0].tolist()\n",
        "\n",
        "\n",
        "result_MLPC.insert(1, column=\"category\", value=SVM_List)\n",
        "#result_NB.insert(2, column=\"category2\", value=DT_List)\n",
        "result_MLPC.insert(2, column=\"category3\", value=kNN_List)\n",
        "#result_NB.insert(4, column=\"category4\", value=LR_List)\n",
        "#result_NB.insert(4, column=\"category5\", value=MLPC_List)\n",
        "\n",
        "\n",
        "print (result_MLPC.T)"
      ],
      "metadata": {
        "id": "jfnEra_a8UyS",
        "colab": {
          "base_uri": "https://localhost:8080/"
        },
        "outputId": "c0840a3a-690f-4ee5-f8d4-7c564e5ba7ad"
      },
      "execution_count": null,
      "outputs": [
        {
          "output_type": "stream",
          "name": "stdout",
          "text": [
            "          0   1   2   3   4   5   6   7   8   9    ... 590 591 592 593 594  \\\n",
            "0           B   B   B   B   B   B   B   B   B   B  ...   A   C   C   A   C   \n",
            "category    B   B   B   B   B   B   B   B   B   B  ...   A   A   C   A   C   \n",
            "category3   B   B   B   B   B   B   B   B   B   B  ...   A   A   C   A   C   \n",
            "\n",
            "          595 596 597 598 599  \n",
            "0           B   B   C   A   A  \n",
            "category    A   B   C   C   C  \n",
            "category3   B   B   C   C   C  \n",
            "\n",
            "[3 rows x 600 columns]\n"
          ]
        }
      ]
    },
    {
      "cell_type": "code",
      "source": [
        "a = result_MLPC.T.loc[:,].value_counts()\n",
        "print (a)\n",
        "b = a.idxmax()\n",
        "print(b)\n",
        "c=pd.DataFrame(b)\n",
        "print(c)\n",
        "pd.DataFrame(c).to_csv(\"output_final_3.csv\")"
      ],
      "metadata": {
        "colab": {
          "base_uri": "https://localhost:8080/"
        },
        "id": "MTeKccvW6Ijm",
        "outputId": "ba80b028-9ad7-415e-d96a-2f18a1d60136"
      },
      "execution_count": null,
      "outputs": [
        {
          "output_type": "stream",
          "name": "stdout",
          "text": [
            "0  1  2  3  4  5  6  7  8  9  10  11  12  13  14  15  16  17  18  19  20  21  22  23  24  25  26  27  28  29  30  31  32  33  34  35  36  37  38  39  40  41  42  43  44  45  46  47  48  49  50  51  52  53  54  55  56  57  58  59  60  61  62  63  64  65  66  67  68  69  70  71  72  73  74  75  76  77  78  79  80  81  82  83  84  85  86  87  88  89  90  91  92  93  94  95  96  97  98  99  100  101  102  103  104  105  106  107  108  109  110  111  112  113  114  115  116  117  118  119  120  121  122  123  124  125  126  127  128  129  130  131  132  133  134  135  136  137  138  139  140  141  142  143  144  145  146  147  148  149  150  151  152  153  154  155  156  157  158  159  160  161  162  163  164  165  166  167  168  169  170  171  172  173  174  175  176  177  178  179  180  181  182  183  184  185  186  187  188  189  190  191  192  193  194  195  196  197  198  199  200  201  202  203  204  205  206  207  208  209  210  211  212  213  214  215  216  217  218  219  220  221  222  223  224  225  226  227  228  229  230  231  232  233  234  235  236  237  238  239  240  241  242  243  244  245  246  247  248  249  250  251  252  253  254  255  256  257  258  259  260  261  262  263  264  265  266  267  268  269  270  271  272  273  274  275  276  277  278  279  280  281  282  283  284  285  286  287  288  289  290  291  292  293  294  295  296  297  298  299  300  301  302  303  304  305  306  307  308  309  310  311  312  313  314  315  316  317  318  319  320  321  322  323  324  325  326  327  328  329  330  331  332  333  334  335  336  337  338  339  340  341  342  343  344  345  346  347  348  349  350  351  352  353  354  355  356  357  358  359  360  361  362  363  364  365  366  367  368  369  370  371  372  373  374  375  376  377  378  379  380  381  382  383  384  385  386  387  388  389  390  391  392  393  394  395  396  397  398  399  400  401  402  403  404  405  406  407  408  409  410  411  412  413  414  415  416  417  418  419  420  421  422  423  424  425  426  427  428  429  430  431  432  433  434  435  436  437  438  439  440  441  442  443  444  445  446  447  448  449  450  451  452  453  454  455  456  457  458  459  460  461  462  463  464  465  466  467  468  469  470  471  472  473  474  475  476  477  478  479  480  481  482  483  484  485  486  487  488  489  490  491  492  493  494  495  496  497  498  499  500  501  502  503  504  505  506  507  508  509  510  511  512  513  514  515  516  517  518  519  520  521  522  523  524  525  526  527  528  529  530  531  532  533  534  535  536  537  538  539  540  541  542  543  544  545  546  547  548  549  550  551  552  553  554  555  556  557  558  559  560  561  562  563  564  565  566  567  568  569  570  571  572  573  574  575  576  577  578  579  580  581  582  583  584  585  586  587  588  589  590  591  592  593  594  595  596  597  598  599\n",
            "B  B  B  B  B  B  B  B  B  B  B   B   B   B   B   B   B   B   B   B   B   B   B   B   B   B   B   B   B   B   B   B   B   B   B   B   B   B   B   B   B   B   B   B   B   B   B   B   B   B   B   B   B   B   B   B   B   B   B   B   B   B   B   B   B   B   B   B   B   B   B   B   B   B   B   B   B   B   B   B   B   B   B   B   B   B   B   B   B   B   B   B   B   B   B   B   B   B   B   B   B    B    C    C    A    B    C    C    C    B    C    A    C    C    A    C    C    A    A    B    C    C    C    A    A    A    A    C    C    C    B    C    C    A    A    A    C    C    A    A    B    C    B    B    A    C    A    C    A    C    A    C    B    A    C    A    A    C    C    A    C    A    B    A    A    C    C    B    B    C    B    B    C    C    A    C    B    C    C    C    C    C    C    B    A    B    A    C    B    A    C    C    C    C    B    C    A    B    A    B    B    A    C    C    C    A    B    B    C    B    A    A    B    A    C    C    B    B    A    A    A    C    C    A    A    A    A    C    A    A    C    C    A    A    C    A    A    A    C    A    C    A    C    C    C    C    C    B    C    A    C    B    B    C    C    C    A    B    B    A    C    B    A    B    C    A    A    A    C    C    C    C    A    C    C    B    C    A    A    B    A    C    B    C    C    C    C    C    C    C    A    C    A    B    C    A    A    B    A    A    A    A    A    C    A    A    A    C    A    A    B    C    C    C    B    A    C    B    A    C    A    C    A    A    C    C    C    A    A    A    A    A    A    C    A    C    A    A    C    A    C    A    A    C    C    C    C    A    C    C    B    A    C    B    A    A    A    A    C    A    A    A    A    B    A    A    C    B    C    A    A    A    C    C    B    C    A    A    C    C    B    A    C    C    B    A    A    A    A    C    B    B    B    A    B    C    B    B    B    A    A    C    C    A    A    B    A    C    A    C    C    C    B    A    C    A    B    C    A    A    C    C    C    C    A    A    A    C    C    C    A    C    A    A    B    C    C    C    C    C    B    C    A    C    C    A    C    A    A    B    C    A    A    A    B    C    B    A    A    C    A    B    A    A    B    C    C    C    A    A    C    B    C    A    A    C    A    C    C    A    C    A    C    A    C    B    A    A    B    A    A    B    A    A    A    A    A    C    A    A    C    B    A    A    A    B    A    B    C    A    C    A    C    C    C    A    C    A    A    B    A    A    C    B    C    C    B    C    C    A    B    A    C    B    A    A    C    C    C    A    C    B    C    B    A    A    B    A    B    B    C    C    A    C    B    C    B    B    C    C    C    C    C    C    C    C    C    A    A    B    C    B    C    A    A    B    C    C    A    A    B    C    A    A    C    B    B    A    B    A    A    C    C    A    C    B    B    C    A    A      1\n",
            "                                                                                                                                                                                                                                                                                                                                                                          C   B   B   B   B   B   B   B    B    A    C    A    B    A    C    A    B    C    A    C    C    A    C    C    A    A    B    C    C    B    C    A    A    A    C    C    C    B    C    C    A    A    A    C    C    A    A    B    B    B    A    A    C    A    C    A    C    C    C    B    A    C    A    A    C    C    A    C    A    B    A    B    C    C    B    B    C    C    C    C    C    A    C    B    C    C    C    C    C    C    B    A    B    A    C    B    A    C    C    C    C    C    C    A    B    A    B    B    A    C    C    C    A    B    B    C    B    A    A    B    A    C    C    B    C    A    A    A    C    C    A    A    A    A    C    A    A    C    C    A    A    C    A    A    A    C    A    C    A    C    C    C    C    C    B    C    A    C    B    B    C    C    C    A    B    B    A    C    B    A    B    C    A    A    A    C    C    C    C    A    C    C    A    C    A    A    A    A    C    C    C    B    C    C    A    C    C    A    C    A    B    C    A    A    B    A    A    C    A    A    A    A    A    A    C    A    A    C    C    C    C    B    A    C    B    A    A    A    C    A    A    A    C    C    A    A    A    A    A    C    C    A    C    A    A    A    A    C    A    A    C    C    A    C    A    C    C    B    A    A    B    A    A    A    A    A    A    A    A    A    B    A    A    C    B    B    A    A    A    C    C    B    C    A    A    C    C    A    A    C    C    B    A    A    A    A    C    B    B    B    A    B    C    B    B    B    A    A    C    C    A    A    B    A    C    A    C    C    C    B    A    C    A    B    C    A    A    C    C    A    C    A    A    A    C    C    B    A    C    A    A    B    C    C    C    C    C    B    C    A    C    B    A    C    A    A    B    C    A    A    A    A    C    B    A    A    C    B    B    A    A    B    C    C    C    A    A    C    B    C    A    A    C    A    C    C    A    C    A    C    A    C    B    A    A    B    A    A    B    A    A    A    A    A    C    A    A    C    B    A    A    A    B    A    A    C    A    C    A    C    C    C    A    C    A    A    B    A    A    C    B    C    C    B    C    C    A    B    A    C    B    A    A    C    C    C    A    C    B    C    C    A    A    B    A    C    B    C    C    A    C    B    C    B    C    C    C    C    C    C    C    C    C    C    A    A    B    C    B    C    A    A    B    C    C    A    A    B    C    A    A    C    B    B    A    B    A    A    A    C    A    C    A    B    C    C    C      1\n",
            "                                                                                                                                                                                                                                                                                                                                                              C   B   B   C   B   B   B   B   B   B   B    B    A    C    A    B    A    C    A    B    C    A    C    C    A    C    C    A    A    B    C    C    B    A    A    A    A    C    C    C    B    C    C    A    A    A    C    C    A    A    B    B    B    A    A    C    A    C    A    C    C    C    B    A    C    A    A    C    C    A    C    A    B    A    B    C    C    B    A    C    C    C    C    C    A    C    C    C    C    C    C    C    C    B    A    B    A    C    B    A    C    C    C    C    C    C    A    B    A    B    B    A    C    C    C    A    B    B    C    B    A    A    B    A    C    C    B    C    A    A    A    C    C    A    A    A    A    C    B    A    C    C    A    A    C    A    A    A    C    A    C    A    C    C    C    C    C    B    C    A    C    B    B    C    C    C    A    C    B    A    C    B    A    B    C    A    A    A    C    C    C    C    A    C    C    A    C    A    A    A    A    C    B    C    B    C    C    A    C    B    A    C    A    B    C    A    A    B    A    A    C    A    A    A    A    A    A    C    A    A    C    C    C    C    B    A    C    B    A    A    A    C    A    A    A    C    C    A    A    A    A    A    C    C    A    C    A    A    A    A    C    A    A    C    C    A    C    A    C    C    B    A    A    B    A    A    A    A    C    A    A    A    A    B    A    A    C    B    C    A    A    A    C    C    B    C    A    A    C    C    B    A    A    C    B    A    A    A    A    C    B    B    B    A    B    C    B    A    B    A    A    B    C    A    A    B    A    C    A    C    C    C    B    A    C    A    B    C    A    A    C    C    A    C    A    A    A    C    C    C    A    C    A    A    B    C    C    C    C    C    B    C    A    C    C    A    C    A    A    B    C    A    A    A    B    C    B    A    A    C    B    B    A    A    B    C    C    C    A    A    C    B    C    A    A    C    A    C    C    A    C    A    C    A    C    B    C    A    C    A    A    B    A    A    A    A    A    C    A    A    C    A    A    A    A    B    A    B    C    A    C    A    C    C    C    A    A    A    A    A    A    A    C    B    C    C    B    B    C    A    B    A    C    B    A    A    C    C    C    A    C    B    C    C    A    A    B    A    C    B    C    C    A    C    B    C    B    C    C    C    C    C    C    C    A    C    C    A    A    B    C    B    C    A    A    B    C    C    A    A    B    C    A    A    C    B    B    A    B    A    A    A    C    A    C    B    B    C    C    C      1\n",
            "dtype: int64\n",
            "('B', 'B', 'B', 'B', 'B', 'B', 'B', 'B', 'B', 'B', 'B', 'B', 'B', 'B', 'B', 'B', 'B', 'B', 'B', 'B', 'B', 'B', 'B', 'B', 'B', 'B', 'B', 'B', 'B', 'B', 'B', 'B', 'B', 'B', 'B', 'B', 'B', 'B', 'B', 'B', 'B', 'B', 'B', 'B', 'B', 'B', 'B', 'B', 'B', 'B', 'B', 'B', 'B', 'B', 'B', 'B', 'B', 'B', 'B', 'B', 'B', 'B', 'B', 'B', 'B', 'B', 'B', 'B', 'B', 'B', 'B', 'B', 'B', 'B', 'B', 'B', 'B', 'B', 'B', 'B', 'B', 'B', 'B', 'B', 'B', 'B', 'B', 'B', 'B', 'B', 'B', 'B', 'B', 'B', 'B', 'B', 'B', 'B', 'B', 'B', 'B', 'B', 'C', 'C', 'A', 'B', 'C', 'C', 'C', 'B', 'C', 'A', 'C', 'C', 'A', 'C', 'C', 'A', 'A', 'B', 'C', 'C', 'C', 'A', 'A', 'A', 'A', 'C', 'C', 'C', 'B', 'C', 'C', 'A', 'A', 'A', 'C', 'C', 'A', 'A', 'B', 'C', 'B', 'B', 'A', 'C', 'A', 'C', 'A', 'C', 'A', 'C', 'B', 'A', 'C', 'A', 'A', 'C', 'C', 'A', 'C', 'A', 'B', 'A', 'A', 'C', 'C', 'B', 'B', 'C', 'B', 'B', 'C', 'C', 'A', 'C', 'B', 'C', 'C', 'C', 'C', 'C', 'C', 'B', 'A', 'B', 'A', 'C', 'B', 'A', 'C', 'C', 'C', 'C', 'B', 'C', 'A', 'B', 'A', 'B', 'B', 'A', 'C', 'C', 'C', 'A', 'B', 'B', 'C', 'B', 'A', 'A', 'B', 'A', 'C', 'C', 'B', 'B', 'A', 'A', 'A', 'C', 'C', 'A', 'A', 'A', 'A', 'C', 'A', 'A', 'C', 'C', 'A', 'A', 'C', 'A', 'A', 'A', 'C', 'A', 'C', 'A', 'C', 'C', 'C', 'C', 'C', 'B', 'C', 'A', 'C', 'B', 'B', 'C', 'C', 'C', 'A', 'B', 'B', 'A', 'C', 'B', 'A', 'B', 'C', 'A', 'A', 'A', 'C', 'C', 'C', 'C', 'A', 'C', 'C', 'B', 'C', 'A', 'A', 'B', 'A', 'C', 'B', 'C', 'C', 'C', 'C', 'C', 'C', 'C', 'A', 'C', 'A', 'B', 'C', 'A', 'A', 'B', 'A', 'A', 'A', 'A', 'A', 'C', 'A', 'A', 'A', 'C', 'A', 'A', 'B', 'C', 'C', 'C', 'B', 'A', 'C', 'B', 'A', 'C', 'A', 'C', 'A', 'A', 'C', 'C', 'C', 'A', 'A', 'A', 'A', 'A', 'A', 'C', 'A', 'C', 'A', 'A', 'C', 'A', 'C', 'A', 'A', 'C', 'C', 'C', 'C', 'A', 'C', 'C', 'B', 'A', 'C', 'B', 'A', 'A', 'A', 'A', 'C', 'A', 'A', 'A', 'A', 'B', 'A', 'A', 'C', 'B', 'C', 'A', 'A', 'A', 'C', 'C', 'B', 'C', 'A', 'A', 'C', 'C', 'B', 'A', 'C', 'C', 'B', 'A', 'A', 'A', 'A', 'C', 'B', 'B', 'B', 'A', 'B', 'C', 'B', 'B', 'B', 'A', 'A', 'C', 'C', 'A', 'A', 'B', 'A', 'C', 'A', 'C', 'C', 'C', 'B', 'A', 'C', 'A', 'B', 'C', 'A', 'A', 'C', 'C', 'C', 'C', 'A', 'A', 'A', 'C', 'C', 'C', 'A', 'C', 'A', 'A', 'B', 'C', 'C', 'C', 'C', 'C', 'B', 'C', 'A', 'C', 'C', 'A', 'C', 'A', 'A', 'B', 'C', 'A', 'A', 'A', 'B', 'C', 'B', 'A', 'A', 'C', 'A', 'B', 'A', 'A', 'B', 'C', 'C', 'C', 'A', 'A', 'C', 'B', 'C', 'A', 'A', 'C', 'A', 'C', 'C', 'A', 'C', 'A', 'C', 'A', 'C', 'B', 'A', 'A', 'B', 'A', 'A', 'B', 'A', 'A', 'A', 'A', 'A', 'C', 'A', 'A', 'C', 'B', 'A', 'A', 'A', 'B', 'A', 'B', 'C', 'A', 'C', 'A', 'C', 'C', 'C', 'A', 'C', 'A', 'A', 'B', 'A', 'A', 'C', 'B', 'C', 'C', 'B', 'C', 'C', 'A', 'B', 'A', 'C', 'B', 'A', 'A', 'C', 'C', 'C', 'A', 'C', 'B', 'C', 'B', 'A', 'A', 'B', 'A', 'B', 'B', 'C', 'C', 'A', 'C', 'B', 'C', 'B', 'B', 'C', 'C', 'C', 'C', 'C', 'C', 'C', 'C', 'C', 'A', 'A', 'B', 'C', 'B', 'C', 'A', 'A', 'B', 'C', 'C', 'A', 'A', 'B', 'C', 'A', 'A', 'C', 'B', 'B', 'A', 'B', 'A', 'A', 'C', 'C', 'A', 'C', 'B', 'B', 'C', 'A', 'A')\n",
            "     0\n",
            "0    B\n",
            "1    B\n",
            "2    B\n",
            "3    B\n",
            "4    B\n",
            "..  ..\n",
            "595  B\n",
            "596  B\n",
            "597  C\n",
            "598  A\n",
            "599  A\n",
            "\n",
            "[600 rows x 1 columns]\n"
          ]
        }
      ]
    }
  ]
}