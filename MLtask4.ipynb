{
  "nbformat": 4,
  "nbformat_minor": 0,
  "metadata": {
    "colab": {
      "provenance": []
    },
    "kernelspec": {
      "name": "python3",
      "display_name": "Python 3"
    },
    "language_info": {
      "name": "python"
    }
  },
  "cells": [
    {
      "cell_type": "code",
      "execution_count": null,
      "metadata": {
        "id": "ZDkc_UcTAfJp"
      },
      "outputs": [],
      "source": [
        "import numpy as np\n",
        "import pandas as pd\n",
        "import matplotlib.pyplot as plt\n",
        "import seaborn as sns\n",
        "%matplotlib inline\n",
        "\n",
        "from google.colab import files #匯入套件\n",
        "\n",
        "#upload = files.upload()\n",
        "#upload2 = files.upload()\n",
        "raw_data = pd.read_csv('train_dec10_task4_missing_supplement.csv', index_col = 0)\n",
        "test_data = pd.read_csv('test_dec08_task4_missing_only_features.csv', index_col = 0)"
      ]
    },
    {
      "cell_type": "code",
      "source": [
        "from sklearn.preprocessing import StandardScaler\n",
        "scaler = StandardScaler()\n",
        "scaler.fit(raw_data.drop('class', axis=1))\n",
        "scaled_features = scaler.transform(raw_data.drop('class', axis=1))\n",
        "scaled_data = pd.DataFrame(scaled_features, columns = raw_data.drop('class', axis=1).columns)\n",
        "\n",
        "test_scaler = StandardScaler()\n",
        "test_scaler.fit(test_data.drop('class', axis=1))\n",
        "scaled_features2 = test_scaler.transform(test_data.drop('class', axis=1))\n",
        "t_data = pd.DataFrame(scaled_features2, columns = test_data.drop('class', axis=1).columns)\n",
        "\n",
        "x_train = scaled_data\n",
        "y_train = raw_data['class']\n",
        "x_test = t_data\n",
        "\n"
      ],
      "metadata": {
        "id": "jOhomCY7AmRF"
      },
      "execution_count": null,
      "outputs": []
    },
    {
      "cell_type": "markdown",
      "source": [
        "### **Input Missing Data**"
      ],
      "metadata": {
        "id": "a35ZA76-MgZw"
      }
    },
    {
      "cell_type": "code",
      "source": [
        "import numpy as np\n",
        "from sklearn.impute import KNNImputer\n",
        "imputer = KNNImputer(n_neighbors=3)\n",
        "x_train_new = imputer.fit_transform(x_train)\n",
        "x_test_new = imputer.fit_transform(x_test)"
      ],
      "metadata": {
        "id": "-wsDiCUPAtLV"
      },
      "execution_count": null,
      "outputs": []
    },
    {
      "cell_type": "code",
      "source": [
        "from sklearn.experimental import enable_iterative_imputer\n",
        "from sklearn.impute import IterativeImputer\n",
        "imp_mean = IterativeImputer(random_state=0)\n",
        "imp_mean.fit(x_train)\n",
        "imp_mean.fit(x_test)\n",
        "x_train_full=imp_mean.transform(x_train)\n",
        "x_test_full=imp_mean.transform(x_test)"
      ],
      "metadata": {
        "id": "vmKde1PvD6uw"
      },
      "execution_count": null,
      "outputs": []
    },
    {
      "cell_type": "code",
      "source": [
        "import numpy as np\n",
        "from sklearn.experimental import enable_iterative_imputer\n",
        "from sklearn.impute import IterativeImputer\n",
        "imp = IterativeImputer(max_iter=100, random_state=0)\n",
        "x_train_full=imp.fit_transform(x_train)\n",
        "x_test_full=imp.fit_transform(x_test)"
      ],
      "metadata": {
        "id": "16pjsy_qpEIL"
      },
      "execution_count": null,
      "outputs": []
    },
    {
      "cell_type": "markdown",
      "source": [
        "### **Feature Select**"
      ],
      "metadata": {
        "id": "dz3ENPOAghdn"
      }
    },
    {
      "cell_type": "code",
      "source": [
        "from sklearn import svm\n",
        "from sklearn.feature_selection import RFE\n",
        "from sklearn.feature_selection import SequentialFeatureSelector\n",
        "from sklearn.neighbors import KNeighborsClassifier\n",
        "from sklearn.neighbors import RadiusNeighborsClassifier\n",
        "knn = KNeighborsClassifier(n_neighbors=3)\n",
        "#neigh = RadiusNeighborsClassifier(radius=1.0)\n",
        "#SVMmodel = \n",
        "model = SequentialFeatureSelector(knn, n_features_to_select=5)\n",
        "model.fit(x_train_full,y_train)\n",
        "selection = model.get_feature_names_out()\n",
        "print(selection)\n",
        "x_train_new=model.fit_transform(x_train_full)\n",
        "x_test_new=model.fit_transform(x_test_full)"
      ],
      "metadata": {
        "id": "2V30d7XAgkjl"
      },
      "execution_count": null,
      "outputs": []
    },
    {
      "cell_type": "markdown",
      "source": [
        "### **Train Model & Test**"
      ],
      "metadata": {
        "id": "lcZs9CfnNgyv"
      }
    },
    {
      "cell_type": "code",
      "source": [
        "x_train_new = x_train_full[ :,[1,2,6,8,9] ]\n",
        "x_test_new = x_test_full[ :,[1,2,6,8,9]  ]\n",
        "\n",
        "\n",
        "from sklearn.model_selection import train_test_split\n",
        "x_training_data, x_test_data, y_training_data, y_test_data = train_test_split(x_train_new, y_train, test_size = 0.25)\n",
        "from sklearn.linear_model import LogisticRegression\n",
        "\n",
        "# 建立Logistic模型\n",
        "logisticModel = LogisticRegression(random_state=0)\n",
        "# 使用訓練資料訓練模型\n",
        "logisticModel.fit(x_training_data, y_training_data)\n",
        "# 使用訓練資料預測分類\n",
        "predicted_test = logisticModel.predict(x_test_data)\n",
        "print('訓練集: ',logisticModel.score(x_training_data, y_training_data))\n",
        "print('測試集: ',logisticModel.score(x_test_data,y_test_data))"
      ],
      "metadata": {
        "colab": {
          "base_uri": "https://localhost:8080/"
        },
        "id": "vfJqOEIOhTXl",
        "outputId": "4fa4ebe0-6a3f-448b-8ffb-e0cd4ac001c7"
      },
      "execution_count": null,
      "outputs": [
        {
          "output_type": "stream",
          "name": "stdout",
          "text": [
            "訓練集:  0.5197948717948718\n",
            "測試集:  0.5132307692307693\n"
          ]
        }
      ]
    },
    {
      "cell_type": "markdown",
      "source": [
        "kNN"
      ],
      "metadata": {
        "id": "rBOIezHENn5R"
      }
    },
    {
      "cell_type": "code",
      "source": [
        "from sklearn.neighbors import KNeighborsClassifier\n",
        "model = KNeighborsClassifier(n_neighbors = 3)\n",
        "\n",
        "model.fit(x_train_new, y_train)\n",
        "\n",
        "predictions = model.predict(x_test_new)"
      ],
      "metadata": {
        "id": "9rdBaOvzA5uW"
      },
      "execution_count": null,
      "outputs": []
    },
    {
      "cell_type": "markdown",
      "source": [
        "naive bayes"
      ],
      "metadata": {
        "id": "z6_QhiFUNqn3"
      }
    },
    {
      "cell_type": "code",
      "source": [
        "from sklearn.naive_bayes import GaussianNB\n",
        "model = GaussianNB()\n",
        "model.fit(x_train_new, y_train);\n",
        "predictions = model.predict(x_test_new)"
      ],
      "metadata": {
        "id": "RQn-alAoJMuN"
      },
      "execution_count": null,
      "outputs": []
    },
    {
      "cell_type": "markdown",
      "source": [
        "SVM"
      ],
      "metadata": {
        "id": "pQ3NMDW5N1tZ"
      }
    },
    {
      "cell_type": "code",
      "source": [
        "from sklearn import svm\n",
        "model = svm.SVC(kernel='rbf',C=3,gamma='auto')\n",
        "\n",
        "model.fit(x_train[ :,[1,2,4,5,10] ], y_train)\n",
        "\n",
        "predictions = model.predict(x_test_new)"
      ],
      "metadata": {
        "id": "Uuh8j778DCeA"
      },
      "execution_count": null,
      "outputs": []
    },
    {
      "cell_type": "code",
      "source": [
        "\n",
        "from sklearn import tree\n",
        "\n",
        "\n",
        "# 切分訓練與測試資料\n",
        "x_train_new = x_train_full[ :,[1,2,4,5,10] ]\n",
        "x_test_new = x_test_full[ :,[1,2,4,5,10]  ]\n",
        "\n",
        "# 建立分類器\n",
        "model = tree.DecisionTreeClassifier()\n",
        "model.fit(x_train_new, y_train)\n",
        "\n",
        "# 預測\n",
        "predictions = model.predict(x_test_new)\n",
        "\n"
      ],
      "metadata": {
        "id": "FnpIHv0Kmydy"
      },
      "execution_count": null,
      "outputs": []
    },
    {
      "cell_type": "code",
      "source": [
        "from sklearn.neural_network import MLPClassifier\n",
        "x_training_data, x_test_data, y_training_data, y_test_data = train_test_split(x_train_new, y_train, test_size = 0.01)\n",
        "model = MLPClassifier(solver='lbfgs', alpha=1e-7,hidden_layer_sizes=(50, 50), random_state=1)\n",
        "\n",
        "model.fit(x_training_data, y_training_data);\n",
        "predicted_test = model.predict(x_test_data)\n",
        "print('訓練集: ',model.score(x_training_data, y_training_data))\n",
        "print('測試集: ',model.score(x_test_data,y_test_data))\n",
        "predictions = model.predict(x_test_new)"
      ],
      "metadata": {
        "colab": {
          "base_uri": "https://localhost:8080/"
        },
        "id": "tJExlMSgYdEB",
        "outputId": "15f3fa56-cc2b-4efc-ac2b-a78a85b38e06"
      },
      "execution_count": null,
      "outputs": [
        {
          "output_type": "stream",
          "name": "stdout",
          "text": [
            "訓練集:  0.5779331779331779\n",
            "測試集:  0.49230769230769234\n"
          ]
        },
        {
          "output_type": "stream",
          "name": "stderr",
          "text": [
            "/usr/local/lib/python3.8/dist-packages/sklearn/neural_network/_multilayer_perceptron.py:549: ConvergenceWarning: lbfgs failed to converge (status=1):\n",
            "STOP: TOTAL NO. of ITERATIONS REACHED LIMIT.\n",
            "\n",
            "Increase the number of iterations (max_iter) or scale the data as shown in:\n",
            "    https://scikit-learn.org/stable/modules/preprocessing.html\n",
            "  self.n_iter_ = _check_optimize_result(\"lbfgs\", opt_res, self.max_iter)\n"
          ]
        }
      ]
    },
    {
      "cell_type": "markdown",
      "source": [
        "### **RUN MODEL**"
      ],
      "metadata": {
        "id": "UJkbr3A_OCuk"
      }
    },
    {
      "cell_type": "code",
      "source": [
        "from sklearn import svm\n",
        "from sklearn.neighbors import KNeighborsClassifier\n",
        "from sklearn.neural_network import MLPClassifier\n",
        "from sklearn.naive_bayes import GaussianNB\n",
        "from sklearn.linear_model import LogisticRegression\n",
        "\n",
        "SVMmodel=svm.SVC(kernel='linear',gamma=0.1, C=1)\n",
        "SVMmodel.fit(x_train_new, y_train)\n",
        "predict_SVM=SVMmodel.predict(x_test_new)\n",
        "\n",
        "\n",
        "kNNmodel = KNeighborsClassifier(n_neighbors = 11)\n",
        "kNNmodel.fit(x_train_new, y_train)\n",
        "predict_kNN = kNNmodel.predict(x_test_new)\n",
        "\n",
        "\n",
        "MLPCmodel = MLPClassifier(solver='lbfgs', alpha=1e-7,hidden_layer_sizes=(10, 10), random_state=1)\n",
        "MLPCmodel.fit(x_train_new, y_train);\n",
        "predict_MLPC = MLPCmodel.predict(x_test_new)\n",
        "\n",
        "\n",
        "NBmodel = GaussianNB()\n",
        "NBmodel.fit(x_train_new, y_train);\n",
        "predict_NB = NBmodel.predict(x_test_new)\n",
        "\n",
        "\n",
        "\n",
        "LRmodel = LogisticRegression(random_state=0)\n",
        "LRmodel.fit(x_train_new, y_train)\n",
        "predict_LR = LRmodel.predict(x_test_new)\n"
      ],
      "metadata": {
        "id": "TrDkcabZOCYM"
      },
      "execution_count": null,
      "outputs": []
    },
    {
      "cell_type": "markdown",
      "source": [
        "### **Process OutPut DATA**"
      ],
      "metadata": {
        "id": "xtWpFwYvPD1G"
      }
    },
    {
      "cell_type": "code",
      "source": [
        "result_NB=pd.DataFrame(predict_NB)\n",
        "result_SVM=pd.DataFrame(predict_SVM)\n",
        "result_kNN=pd.DataFrame(predict_kNN)\n",
        "result_LR=pd.DataFrame(predict_LR)\n",
        "result_MLPC=pd.DataFrame(predict_MLPC)\n",
        "\n",
        "NB_List=result_NB[0].tolist()\n",
        "SVM_List=result_SVM[0].tolist()\n",
        "kNN_List=result_kNN[0].tolist()\n",
        "LR_List=result_LR[0].tolist()\n",
        "MLPC_List=result_MLPC[0].tolist()\n",
        "\n",
        "\n",
        "result_MLPC.insert(1, column=\"category\", value=SVM_List)\n",
        "result_MLPC.insert(2, column=\"category3\", value=kNN_List)\n",
        "result_MLPC.insert(3, column=\"category4\", value=LR_List)\n",
        "result_MLPC.insert(4, column=\"category5\", value=NB_List)\n",
        "\n",
        "\n",
        "print (result_MLPC.T)\n",
        "\n",
        "\n",
        "\n"
      ],
      "metadata": {
        "id": "jfZEmOhSOc3M",
        "colab": {
          "base_uri": "https://localhost:8080/"
        },
        "outputId": "71c2aea6-e278-4165-b220-f4b8468bdca3"
      },
      "execution_count": null,
      "outputs": [
        {
          "output_type": "stream",
          "name": "stdout",
          "text": [
            "          0    1    2    3    4    5    6    7    8    9     ... 1590 1591  \\\n",
            "0            B    B    B    C    C    C    C    C    C    B  ...    C    A   \n",
            "category     C    B    B    C    C    C    C    C    C    C  ...    C    B   \n",
            "category3    D    B    D    C    C    B    C    C    C    B  ...    C    A   \n",
            "category4    B    B    B    C    C    C    C    C    C    C  ...    C    B   \n",
            "category5    B    B    B    C    B    C    C    C    C    B  ...    C    C   \n",
            "\n",
            "          1592 1593 1594 1595 1596 1597 1598 1599  \n",
            "0            B    C    B    C    C    C    C    C  \n",
            "category     B    C    B    C    C    C    C    B  \n",
            "category3    B    A    B    A    C    C    C    A  \n",
            "category4    B    C    B    C    C    C    C    B  \n",
            "category5    B    B    B    C    C    C    C    C  \n",
            "\n",
            "[5 rows x 1600 columns]\n"
          ]
        }
      ]
    },
    {
      "cell_type": "code",
      "source": [
        "n=0\n",
        "result=pd.DataFrame({'category': ['start'] })\n",
        "while n<=1599:\n",
        "  a = result_SVM.T[n].value_counts()\n",
        "  b = a.idxmax()\n",
        "  #print(b)\n",
        "  result_add=pd.DataFrame({'category': [b] })\n",
        "  result=result.append(result_add)\n",
        "  n=n+1\n",
        "\n",
        "print(result)\n",
        "c=pd.DataFrame(result)\n",
        "pd.DataFrame(c).to_csv(\"output_final_11.csv\")"
      ],
      "metadata": {
        "id": "8Woii3XLc5xM"
      },
      "execution_count": null,
      "outputs": []
    },
    {
      "cell_type": "code",
      "source": [
        "a = result_MLPC.T.loc[:,].value_counts()\n",
        "print (a)\n",
        "b = a.idxmax()\n",
        "print(b)\n",
        "c=pd.DataFrame(b)\n",
        "print(c)\n",
        "pd.DataFrame(c).to_csv(\"output_final_1.csv\")"
      ],
      "metadata": {
        "id": "furrLDx1c5Ty"
      },
      "execution_count": null,
      "outputs": []
    }
  ]
}